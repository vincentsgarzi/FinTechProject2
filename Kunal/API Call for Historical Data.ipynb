{
 "cells": [
  {
   "cell_type": "code",
   "execution_count": 1,
   "id": "58f80a79-cf80-42d7-826d-96ea319b543c",
   "metadata": {},
   "outputs": [],
   "source": [
    "# Import the required libraries and dependencies\n",
    "import os\n",
    "import requests\n",
    "import json\n",
    "import pandas as pd\n",
    "from dotenv import load_dotenv\n",
    "import alpaca_trade_api as tradeapi"
   ]
  },
  {
   "cell_type": "code",
   "execution_count": 2,
   "id": "5f820387-b67e-449f-a0b8-25d6086ed6c1",
   "metadata": {},
   "outputs": [
    {
     "data": {
      "text/plain": [
       "True"
      ]
     },
     "execution_count": 2,
     "metadata": {},
     "output_type": "execute_result"
    }
   ],
   "source": [
    "# Load the environment variables from the .env file\n",
    "#by calling the load_dotenv function\n",
    "load_dotenv()"
   ]
  },
  {
   "cell_type": "code",
   "execution_count": 3,
   "id": "802414d5-496a-41b4-b48a-0dbfdef358cc",
   "metadata": {},
   "outputs": [
    {
     "data": {
      "text/plain": [
       "<alpaca_trade_api.rest.REST at 0x1ba056c4208>"
      ]
     },
     "execution_count": 3,
     "metadata": {},
     "output_type": "execute_result"
    }
   ],
   "source": [
    "# Set the variables for the Alpaca API and secret keys\n",
    "alpaca_api_key=os.getenv(\"ALPACA_API_KEY\")\n",
    "alpaca_secret_key=os.getenv(\"ALPACA_SECRET_KEY\")\n",
    "\n",
    "# Create the Alpaca tradeapi.REST object\n",
    "alpaca=tradeapi.REST(alpaca_api_key,alpaca_secret_key,api_version=\"v2\")"
   ]
  },
  {
   "cell_type": "code",
   "execution_count": 6,
   "id": "63a63e61-e1eb-4e56-9fca-eb4b25432584",
   "metadata": {},
   "outputs": [
    {
     "name": "stdout",
     "output_type": "stream",
     "text": [
      "2018-03-21 2023-03-21\n"
     ]
    }
   ],
   "source": [
    "# Set start and end dates of 3 years back from your current date\n",
    "# Alternatively, you can use an end date of 2020-08-07 and work 3 years back from that date \n",
    "import datetime as dt\n",
    "from pandas.tseries.offsets import DateOffset\n",
    "\n",
    "today= dt.date.today() #- DateOffset(days=1)\n",
    "start= today - DateOffset(years=5)\n",
    "\n",
    "start_date=start.date()\n",
    "end_date=today.isoformat()\n",
    "\n",
    "timeframe='1Day'\n",
    "\n",
    "print(start_date, end_date)"
   ]
  },
  {
   "cell_type": "code",
   "execution_count": 5,
   "id": "c5f1bc88-96bb-4755-a8be-2753c31f0af6",
   "metadata": {},
   "outputs": [],
   "source": [
    "#Ticker inputs from streamlit\n",
    "\n",
    "tickers_input = ['AAPL','GOOG','MSFT'] ## Set this to input from streamlit\n",
    "\n",
    "tickers = ['AAPL','GOOG','MSFT'] # Final processed ticker list here\n"
   ]
  },
  {
   "cell_type": "code",
   "execution_count": 51,
   "id": "56a754dc-7766-4d62-afba-7a4489041a32",
   "metadata": {},
   "outputs": [
    {
     "data": {
      "text/html": [
       "<div>\n",
       "<style scoped>\n",
       "    .dataframe tbody tr th:only-of-type {\n",
       "        vertical-align: middle;\n",
       "    }\n",
       "\n",
       "    .dataframe tbody tr th {\n",
       "        vertical-align: top;\n",
       "    }\n",
       "\n",
       "    .dataframe thead th {\n",
       "        text-align: right;\n",
       "    }\n",
       "</style>\n",
       "<table border=\"1\" class=\"dataframe\">\n",
       "  <thead>\n",
       "    <tr style=\"text-align: right;\">\n",
       "      <th></th>\n",
       "      <th>open</th>\n",
       "      <th>high</th>\n",
       "      <th>low</th>\n",
       "      <th>close</th>\n",
       "      <th>volume</th>\n",
       "      <th>trade_count</th>\n",
       "      <th>vwap</th>\n",
       "      <th>symbol</th>\n",
       "    </tr>\n",
       "  </thead>\n",
       "  <tbody>\n",
       "    <tr>\n",
       "      <th>2018-03-21</th>\n",
       "      <td>175.04</td>\n",
       "      <td>175.09</td>\n",
       "      <td>171.26</td>\n",
       "      <td>171.270</td>\n",
       "      <td>37055152</td>\n",
       "      <td>238351</td>\n",
       "      <td>173.087620</td>\n",
       "      <td>AAPL</td>\n",
       "    </tr>\n",
       "    <tr>\n",
       "      <th>2018-03-22</th>\n",
       "      <td>170.00</td>\n",
       "      <td>172.68</td>\n",
       "      <td>168.60</td>\n",
       "      <td>168.845</td>\n",
       "      <td>41493879</td>\n",
       "      <td>289764</td>\n",
       "      <td>170.196940</td>\n",
       "      <td>AAPL</td>\n",
       "    </tr>\n",
       "    <tr>\n",
       "      <th>2018-03-23</th>\n",
       "      <td>168.39</td>\n",
       "      <td>169.92</td>\n",
       "      <td>164.94</td>\n",
       "      <td>164.940</td>\n",
       "      <td>41028966</td>\n",
       "      <td>284670</td>\n",
       "      <td>167.548254</td>\n",
       "      <td>AAPL</td>\n",
       "    </tr>\n",
       "    <tr>\n",
       "      <th>2018-03-26</th>\n",
       "      <td>168.06</td>\n",
       "      <td>173.10</td>\n",
       "      <td>166.44</td>\n",
       "      <td>172.770</td>\n",
       "      <td>37541736</td>\n",
       "      <td>232077</td>\n",
       "      <td>170.050591</td>\n",
       "      <td>AAPL</td>\n",
       "    </tr>\n",
       "    <tr>\n",
       "      <th>2018-03-27</th>\n",
       "      <td>173.68</td>\n",
       "      <td>175.15</td>\n",
       "      <td>166.92</td>\n",
       "      <td>168.340</td>\n",
       "      <td>40923385</td>\n",
       "      <td>276951</td>\n",
       "      <td>171.395108</td>\n",
       "      <td>AAPL</td>\n",
       "    </tr>\n",
       "  </tbody>\n",
       "</table>\n",
       "</div>"
      ],
      "text/plain": [
       "              open    high     low    close    volume trade_count        vwap  \\\n",
       "2018-03-21  175.04  175.09  171.26  171.270  37055152      238351  173.087620   \n",
       "2018-03-22  170.00  172.68  168.60  168.845  41493879      289764  170.196940   \n",
       "2018-03-23  168.39  169.92  164.94  164.940  41028966      284670  167.548254   \n",
       "2018-03-26  168.06  173.10  166.44  172.770  37541736      232077  170.050591   \n",
       "2018-03-27  173.68  175.15  166.92  168.340  40923385      276951  171.395108   \n",
       "\n",
       "           symbol  \n",
       "2018-03-21   AAPL  \n",
       "2018-03-22   AAPL  \n",
       "2018-03-23   AAPL  \n",
       "2018-03-26   AAPL  \n",
       "2018-03-27   AAPL  "
      ]
     },
     "metadata": {},
     "output_type": "display_data"
    },
    {
     "data": {
      "text/html": [
       "<div>\n",
       "<style scoped>\n",
       "    .dataframe tbody tr th:only-of-type {\n",
       "        vertical-align: middle;\n",
       "    }\n",
       "\n",
       "    .dataframe tbody tr th {\n",
       "        vertical-align: top;\n",
       "    }\n",
       "\n",
       "    .dataframe thead th {\n",
       "        text-align: right;\n",
       "    }\n",
       "</style>\n",
       "<table border=\"1\" class=\"dataframe\">\n",
       "  <thead>\n",
       "    <tr style=\"text-align: right;\">\n",
       "      <th></th>\n",
       "      <th>open</th>\n",
       "      <th>high</th>\n",
       "      <th>low</th>\n",
       "      <th>close</th>\n",
       "      <th>volume</th>\n",
       "      <th>trade_count</th>\n",
       "      <th>vwap</th>\n",
       "      <th>symbol</th>\n",
       "    </tr>\n",
       "  </thead>\n",
       "  <tbody>\n",
       "    <tr>\n",
       "      <th>2023-03-15</th>\n",
       "      <td>259.980</td>\n",
       "      <td>266.48</td>\n",
       "      <td>259.2100</td>\n",
       "      <td>265.44</td>\n",
       "      <td>46067581</td>\n",
       "      <td>610286</td>\n",
       "      <td>263.740924</td>\n",
       "      <td>MSFT</td>\n",
       "    </tr>\n",
       "    <tr>\n",
       "      <th>2023-03-16</th>\n",
       "      <td>265.205</td>\n",
       "      <td>276.56</td>\n",
       "      <td>263.2800</td>\n",
       "      <td>276.20</td>\n",
       "      <td>54831124</td>\n",
       "      <td>689121</td>\n",
       "      <td>272.517382</td>\n",
       "      <td>MSFT</td>\n",
       "    </tr>\n",
       "    <tr>\n",
       "      <th>2023-03-17</th>\n",
       "      <td>278.260</td>\n",
       "      <td>283.33</td>\n",
       "      <td>276.3201</td>\n",
       "      <td>279.43</td>\n",
       "      <td>69231892</td>\n",
       "      <td>689908</td>\n",
       "      <td>279.392327</td>\n",
       "      <td>MSFT</td>\n",
       "    </tr>\n",
       "    <tr>\n",
       "      <th>2023-03-20</th>\n",
       "      <td>276.980</td>\n",
       "      <td>277.48</td>\n",
       "      <td>269.8500</td>\n",
       "      <td>272.23</td>\n",
       "      <td>43107256</td>\n",
       "      <td>596678</td>\n",
       "      <td>272.018493</td>\n",
       "      <td>MSFT</td>\n",
       "    </tr>\n",
       "    <tr>\n",
       "      <th>2023-03-21</th>\n",
       "      <td>274.880</td>\n",
       "      <td>275.00</td>\n",
       "      <td>269.5191</td>\n",
       "      <td>273.39</td>\n",
       "      <td>24906957</td>\n",
       "      <td>390469</td>\n",
       "      <td>271.840225</td>\n",
       "      <td>MSFT</td>\n",
       "    </tr>\n",
       "  </tbody>\n",
       "</table>\n",
       "</div>"
      ],
      "text/plain": [
       "               open    high       low   close    volume trade_count  \\\n",
       "2023-03-15  259.980  266.48  259.2100  265.44  46067581      610286   \n",
       "2023-03-16  265.205  276.56  263.2800  276.20  54831124      689121   \n",
       "2023-03-17  278.260  283.33  276.3201  279.43  69231892      689908   \n",
       "2023-03-20  276.980  277.48  269.8500  272.23  43107256      596678   \n",
       "2023-03-21  274.880  275.00  269.5191  273.39  24906957      390469   \n",
       "\n",
       "                  vwap symbol  \n",
       "2023-03-15  263.740924   MSFT  \n",
       "2023-03-16  272.517382   MSFT  \n",
       "2023-03-17  279.392327   MSFT  \n",
       "2023-03-20  272.018493   MSFT  \n",
       "2023-03-21  271.840225   MSFT  "
      ]
     },
     "metadata": {},
     "output_type": "display_data"
    }
   ],
   "source": [
    "#Create a empty dataframe for API data\n",
    "\n",
    "API_df=pd.DataFrame(columns=['open','high','low','close','volume','trade_count','vwap','symbol'])\n",
    "\n",
    "#Appending data from alpaca.get_bars to the empty dataframe\n",
    "\n",
    "for ticker in tickers:\n",
    "    ticker_data=alpaca.get_bars(ticker,\n",
    "                             timeframe,\n",
    "                             start=start_date,\n",
    "                             # end=end_date\n",
    "                             ).df\n",
    "    ticker_data['symbol']=ticker\n",
    "    API_df=pd.concat([API_df,ticker_data],axis=0)\n",
    "\n",
    "#Reformatting the index\n",
    "API_df.index=pd.to_datetime(API_df.index).date\n",
    "\n",
    "display(API_df.head())\n",
    "display(API_df.tail())"
   ]
  }
 ],
 "metadata": {
  "kernelspec": {
   "display_name": "Python 3 (ipykernel)",
   "language": "python",
   "name": "python3"
  },
  "language_info": {
   "codemirror_mode": {
    "name": "ipython",
    "version": 3
   },
   "file_extension": ".py",
   "mimetype": "text/x-python",
   "name": "python",
   "nbconvert_exporter": "python",
   "pygments_lexer": "ipython3",
   "version": "3.7.15"
  }
 },
 "nbformat": 4,
 "nbformat_minor": 5
}
